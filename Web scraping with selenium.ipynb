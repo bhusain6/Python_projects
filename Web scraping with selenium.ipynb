{
 "cells": [
  {
   "cell_type": "code",
   "execution_count": 114,
   "id": "47dbd9ce",
   "metadata": {},
   "outputs": [],
   "source": [
    "#!pip install selenium\n",
    "from selenium import webdriver\n",
    "from selenium.webdriver.support.ui import WebDriverWait  \n",
    "from selenium.webdriver.support import expected_conditions as EC\n",
    "from selenium.webdriver.common.by import By\n",
    "import re,csv,time\n",
    "from selenium.common.exceptions import NoSuchElementException\n",
    "import pandas as pd"
   ]
  },
  {
   "cell_type": "code",
   "execution_count": 132,
   "id": "6c3cfe50",
   "metadata": {},
   "outputs": [],
   "source": [
    "def scrape(url):\n",
    "    #create a variable (wdpath) to store the chrome web driver\n",
    "    wdpath = \"chromedriver.exe\"\n",
    "    #create a variable named \"driver\" to store the actual browser being used (chrome) and its corresponding webdriver(wdpath)\n",
    "    driver = webdriver.Chrome(wdpath)\n",
    "    \n",
    "    reviewer_name = []\n",
    "    review_date = []\n",
    "    review_text = []\n",
    "    review_polarity = []\n",
    "    \n",
    "    driver.get(url)\n",
    "    driver.maximize_window()\n",
    "    \n",
    "    while True:\n",
    "        #script to scroll down to the end of the page\n",
    "        driver.execute_script('window.scrollTo(0, document.body.scrollHeight)')\n",
    "        \n",
    "        #retrieve all the reviews for the movie\n",
    "        reviews = driver.find_elements_by_css_selector('[class= \"row review_table_row\"]')\n",
    "        \n",
    "        for review in reviews:\n",
    "\n",
    "            #Reviewer name\n",
    "            try:\n",
    "                name = review.find_element_by_css_selector('[class= \"unstyled bold articleLink\"]')\n",
    "                reviewer_name.append(name.text)\n",
    "            except:\n",
    "                name = None\n",
    "\n",
    "            #Review date\n",
    "            try:\n",
    "                dates = review.find_element_by_css_selector('[class = \"review-date subtle small\"]')\n",
    "                review_date.append(dates.text)\n",
    "            except:\n",
    "                date = None\n",
    "\n",
    "            #Review text\n",
    "            try:\n",
    "                text = review.find_element_by_css_selector('[class=\"the_review\"]')\n",
    "                review_text.append(text.text)\n",
    "            except:\n",
    "                text = None\n",
    "\n",
    "            #Review polarity\n",
    "            try:\n",
    "                polarity_fresh = review.find_element_by_css_selector('[class = \"review_icon icon small fresh\"]')\n",
    "                find = polarity_fresh.get_attribute('class')\n",
    "                n = re.search(\"review_icon icon small (fresh)\",find)\n",
    "                review_polarity.append(n.group(1))\n",
    "            except:\n",
    "                polarity_rotten = review.find_element_by_css_selector('[class = \"review_icon icon small rotten\"]')\n",
    "                review_polarity.append('rotten') \n",
    "\n",
    "\n",
    "        nextbutton = WebDriverWait(driver,5).until(EC.presence_of_element_located((By.CLASS_NAME,'js-prev-next-paging-next')))\n",
    "\n",
    "        if 'hide' in nextbutton.get_attribute('class'):\n",
    "            break\n",
    "                \n",
    "        nextbutton.click()\n",
    "\n",
    "        time.sleep(3)\n",
    "            \n",
    "    driver.close()\n",
    "            \n",
    "    file = pd.DataFrame({\"reviewer's name\":reviewer_name, \"review date\":review_date, \"review text\":review_text, \"review_polarity\":review_polarity})\n",
    "    file.to_csv('output.csv', index = False)  "
   ]
  },
  {
   "cell_type": "code",
   "execution_count": 133,
   "id": "6c2a3f51",
   "metadata": {},
   "outputs": [
    {
     "name": "stderr",
     "output_type": "stream",
     "text": [
      "C:\\Users\\Bilal\\AppData\\Local\\Temp/ipykernel_33560/572894203.py:5: DeprecationWarning: executable_path has been deprecated, please pass in a Service object\n",
      "  driver = webdriver.Chrome(wdpath)\n",
      "C:\\Users\\Bilal\\AppData\\Local\\Temp/ipykernel_33560/572894203.py:20: DeprecationWarning: find_elements_by_css_selector is deprecated. Please use find_elements(by=By.CSS_SELECTOR, value=css_selector) instead\n",
      "  reviews = driver.find_elements_by_css_selector('[class= \"row review_table_row\"]')\n"
     ]
    }
   ],
   "source": [
    "url = 'https://www.rottentomatoes.com/m/exodus_gods_and_kings/reviews'\n",
    "scrape(url)"
   ]
  },
  {
   "cell_type": "code",
   "execution_count": null,
   "id": "61b9e8cb",
   "metadata": {},
   "outputs": [],
   "source": []
  }
 ],
 "metadata": {
  "kernelspec": {
   "display_name": "Python 3 (ipykernel)",
   "language": "python",
   "name": "python3"
  },
  "language_info": {
   "codemirror_mode": {
    "name": "ipython",
    "version": 3
   },
   "file_extension": ".py",
   "mimetype": "text/x-python",
   "name": "python",
   "nbconvert_exporter": "python",
   "pygments_lexer": "ipython3",
   "version": "3.9.7"
  }
 },
 "nbformat": 4,
 "nbformat_minor": 5
}
